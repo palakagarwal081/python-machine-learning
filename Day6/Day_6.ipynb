{
 "cells": [
  {
   "cell_type": "code",
   "execution_count": 1,
   "id": "a7fff4df-b7fe-4f6b-beb9-cca7ba66d6e6",
   "metadata": {},
   "outputs": [
    {
     "data": {
      "text/plain": [
       "7"
      ]
     },
     "execution_count": 1,
     "metadata": {},
     "output_type": "execute_result"
    }
   ],
   "source": [
    "3+4"
   ]
  },
  {
   "cell_type": "code",
   "execution_count": 2,
   "id": "dcb4108b-797a-40c6-b7e5-905fcc22d9cf",
   "metadata": {},
   "outputs": [
    {
     "name": "stdout",
     "output_type": "stream",
     "text": [
      "Welcome to Machine Learning\n"
     ]
    }
   ],
   "source": [
    "print(\"Welcome to Machine Learning\")"
   ]
  },
  {
   "cell_type": "markdown",
   "id": "6f2208fe-1819-4386-89d2-52c6477d061b",
   "metadata": {},
   "source": [
    "# 1st Heading"
   ]
  },
  {
   "cell_type": "markdown",
   "id": "a4161699-3f28-444e-b439-3fc9f679f549",
   "metadata": {},
   "source": [
    "## 2nd Heading"
   ]
  },
  {
   "cell_type": "markdown",
   "id": "551399ee-c79c-4129-a8dd-fa7c3a38159a",
   "metadata": {},
   "source": [
    "#### Sub Heading"
   ]
  },
  {
   "cell_type": "markdown",
   "id": "b3de6a5f-4b28-4766-a493-639b5e1c5c8a",
   "metadata": {},
   "source": [
    "* This is third point"
   ]
  },
  {
   "cell_type": "markdown",
   "id": "b98a1a00-97af-4964-8954-ed91694a61f9",
   "metadata": {},
   "source": [
    "* this is second point"
   ]
  },
  {
   "cell_type": "markdown",
   "id": "61391f8c-dace-430b-bf1e-3a74986b744d",
   "metadata": {},
   "source": [
    "1. This is third point\n",
    "2. this is fourth point"
   ]
  },
  {
   "cell_type": "code",
   "execution_count": 3,
   "id": "1eb1f814-e402-4328-8c7d-8260a390efd9",
   "metadata": {},
   "outputs": [],
   "source": [
    "import os"
   ]
  },
  {
   "cell_type": "code",
   "execution_count": 4,
   "id": "7dc85998-54c7-4393-aa79-974d1bfc2d82",
   "metadata": {},
   "outputs": [
    {
     "data": {
      "text/plain": [
       "'C:\\\\Users\\\\dell\\\\Desktop\\\\machine learning\\\\Day6'"
      ]
     },
     "execution_count": 4,
     "metadata": {},
     "output_type": "execute_result"
    }
   ],
   "source": [
    "# tells the folder in which we are\n",
    "os.getcwd()"
   ]
  },
  {
   "cell_type": "code",
   "execution_count": 5,
   "id": "11571666-85df-4502-b163-9c6f4eb3f82b",
   "metadata": {},
   "outputs": [],
   "source": [
    "# To change the directry\n",
    "os.chdir('C:\\\\Users\\\\dell\\\\Desktop\\\\machine learning\\\\dayy')"
   ]
  },
  {
   "cell_type": "code",
   "execution_count": 11,
   "id": "7eaea39b-0e17-4ff5-9f9b-e8b17ac6fe15",
   "metadata": {},
   "outputs": [
    {
     "data": {
      "text/plain": [
       "'C:\\\\Users\\\\dell\\\\Desktop\\\\machine learning\\\\dayy'"
      ]
     },
     "execution_count": 11,
     "metadata": {},
     "output_type": "execute_result"
    }
   ],
   "source": [
    "os.getcwd()"
   ]
  },
  {
   "cell_type": "code",
   "execution_count": 7,
   "id": "bd8c2651-f525-46c5-9fa0-1c2f9290b76f",
   "metadata": {},
   "outputs": [
    {
     "data": {
      "text/plain": [
       "['.ipynb_checkpoints',\n",
       " '.py',\n",
       " 'apna python.py',\n",
       " 'Day6',\n",
       " 'dayy',\n",
       " 'Fifth day.py',\n",
       " 'First day.py',\n",
       " 'Fourth day.py',\n",
       " 'if elif else training.py',\n",
       " 'if elif else workshop.py',\n",
       " 'image processing test.py',\n",
       " 'NOTES.txt',\n",
       " 'pattern.py',\n",
       " 'practice.py',\n",
       " 'printhappybirthday.py',\n",
       " 'Second day.py',\n",
       " 'Third day 1.py',\n",
       " 'Third day 2.py']"
      ]
     },
     "execution_count": 7,
     "metadata": {},
     "output_type": "execute_result"
    }
   ],
   "source": [
    "# To get list of all items/folders of any folder\n",
    "os.listdir('C:\\\\Users\\\\dell\\\\Desktop\\\\machine learning')"
   ]
  },
  {
   "cell_type": "code",
   "execution_count": 8,
   "id": "00fbf990-d481-448c-8a63-1007134fc91f",
   "metadata": {},
   "outputs": [],
   "source": [
    "# To make a folder\n",
    "os.mkdir('Empty_folder')"
   ]
  },
  {
   "cell_type": "code",
   "execution_count": 9,
   "id": "50e4886c-b522-44bb-a8db-84875ab8002c",
   "metadata": {},
   "outputs": [],
   "source": [
    "# To remove a folder\n",
    "os.rmdir('Empty_folder')"
   ]
  },
  {
   "cell_type": "markdown",
   "id": "4edf2c14-4dd6-48d9-ae0b-647988376c7c",
   "metadata": {},
   "source": [
    "## Random "
   ]
  },
  {
   "cell_type": "code",
   "execution_count": 12,
   "id": "337c2e7e-0fe0-4bbd-9483-999937493650",
   "metadata": {},
   "outputs": [],
   "source": [
    "import random"
   ]
  },
  {
   "cell_type": "code",
   "execution_count": 14,
   "id": "35c7a1ce-7246-4efb-9974-a63c97881b04",
   "metadata": {},
   "outputs": [
    {
     "name": "stdout",
     "output_type": "stream",
     "text": [
      "0.07311055263228328\n"
     ]
    }
   ],
   "source": [
    "value = random.random()\n",
    "print(value)"
   ]
  },
  {
   "cell_type": "code",
   "execution_count": 15,
   "id": "be81fa6d-01f9-4643-b7a1-99e1c4bc6bd6",
   "metadata": {},
   "outputs": [
    {
     "name": "stdout",
     "output_type": "stream",
     "text": [
      "9\n"
     ]
    }
   ],
   "source": [
    "value2 = random.randint(1,10)\n",
    "print(value2)"
   ]
  },
  {
   "cell_type": "code",
   "execution_count": 17,
   "id": "88503cef-dde8-422a-9dd5-7a710a51dd5b",
   "metadata": {},
   "outputs": [],
   "source": [
    "value3 = random.randint(1,10)"
   ]
  },
  {
   "cell_type": "code",
   "execution_count": 18,
   "id": "e6c4f374-2b4f-42dc-82ec-00a3cad3f046",
   "metadata": {},
   "outputs": [
    {
     "name": "stdout",
     "output_type": "stream",
     "text": [
      "1\n"
     ]
    }
   ],
   "source": [
    "print(value3)"
   ]
  },
  {
   "cell_type": "code",
   "execution_count": 42,
   "id": "a2262466-f4e1-4f87-90ff-f756f0281785",
   "metadata": {},
   "outputs": [
    {
     "name": "stdout",
     "output_type": "stream",
     "text": [
      "hello\n"
     ]
    }
   ],
   "source": [
    "m = ['hi','hello','heyy','howdy']\n",
    "value = random.choice(m)\n",
    "print(value)"
   ]
  },
  {
   "cell_type": "code",
   "execution_count": 43,
   "id": "e6f78a4a-7a8b-4055-963b-196f35eeb03c",
   "metadata": {},
   "outputs": [
    {
     "name": "stdout",
     "output_type": "stream",
     "text": [
      "['heyy', 'heyy']\n"
     ]
    }
   ],
   "source": [
    "m = ['hi','hello','heyy','howdy']\n",
    "value = random.choices(m,k=2)\n",
    "print(value)"
   ]
  },
  {
   "cell_type": "code",
   "execution_count": 44,
   "id": "47f96df5-8f8c-4d37-91be-b23d78d01d7c",
   "metadata": {},
   "outputs": [
    {
     "name": "stdout",
     "output_type": "stream",
     "text": [
      "['heyy', 'howdy', 'heyy']\n"
     ]
    }
   ],
   "source": [
    "m = ['hi','hello','heyy','howdy']\n",
    "value = random.choices(m,k=3)\n",
    "print(value)"
   ]
  },
  {
   "cell_type": "code",
   "execution_count": 45,
   "id": "f774f225-89d2-4894-8a3b-1f4b2a3930ed",
   "metadata": {},
   "outputs": [
    {
     "name": "stdout",
     "output_type": "stream",
     "text": [
      "['hello', 'howdy', 'heyy', 'hi']\n"
     ]
    }
   ],
   "source": [
    "# Shuffle\n",
    "random.shuffle(m)\n",
    "print(m)"
   ]
  },
  {
   "cell_type": "code",
   "execution_count": null,
   "id": "16ea44fd-0c74-4fce-97a8-c9e4f8cb5b66",
   "metadata": {},
   "outputs": [],
   "source": []
  }
 ],
 "metadata": {
  "kernelspec": {
   "display_name": "Python 3 (ipykernel)",
   "language": "python",
   "name": "python3"
  },
  "language_info": {
   "codemirror_mode": {
    "name": "ipython",
    "version": 3
   },
   "file_extension": ".py",
   "mimetype": "text/x-python",
   "name": "python",
   "nbconvert_exporter": "python",
   "pygments_lexer": "ipython3",
   "version": "3.9.12"
  }
 },
 "nbformat": 4,
 "nbformat_minor": 5
}
