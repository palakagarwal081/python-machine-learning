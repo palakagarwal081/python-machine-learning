{
 "cells": [
  {
   "cell_type": "code",
   "execution_count": 1,
   "id": "c8100604-f99d-428d-9777-d0d502b9ca8e",
   "metadata": {},
   "outputs": [],
   "source": [
    "# !pip install numpy"
   ]
  },
  {
   "cell_type": "code",
   "execution_count": 2,
   "id": "0186bd4f-6432-4df0-8045-bf540cadf501",
   "metadata": {},
   "outputs": [],
   "source": [
    "import numpy as np"
   ]
  },
  {
   "cell_type": "code",
   "execution_count": 10,
   "id": "ac13c537-cb8c-4218-9750-3ab201274b68",
   "metadata": {},
   "outputs": [],
   "source": [
    "## np is alias /nickname"
   ]
  },
  {
   "cell_type": "code",
   "execution_count": 3,
   "id": "de039ba9-dfac-4b79-a697-69ee6ae6e029",
   "metadata": {},
   "outputs": [],
   "source": [
    "a = np.array([])\n",
    "b = np.array([1,2,3,45,0])\n",
    "c = np.array([[12,3,4],[4,5,8]])"
   ]
  },
  {
   "cell_type": "code",
   "execution_count": 4,
   "id": "7add9627-602c-4571-9a2a-52622924e460",
   "metadata": {},
   "outputs": [
    {
     "data": {
      "text/plain": [
       "array([], dtype=float64)"
      ]
     },
     "execution_count": 4,
     "metadata": {},
     "output_type": "execute_result"
    }
   ],
   "source": [
    "a"
   ]
  },
  {
   "cell_type": "code",
   "execution_count": 7,
   "id": "38ce9ee6-bdb3-4014-bd2d-f91547e85b8d",
   "metadata": {},
   "outputs": [
    {
     "data": {
      "text/plain": [
       "numpy.ndarray"
      ]
     },
     "execution_count": 7,
     "metadata": {},
     "output_type": "execute_result"
    }
   ],
   "source": [
    "type(a)"
   ]
  },
  {
   "cell_type": "code",
   "execution_count": null,
   "id": "e3a4dc4a-085f-4c9c-81c5-50223d590e04",
   "metadata": {},
   "outputs": [],
   "source": [
    "# nd means n dimension"
   ]
  },
  {
   "cell_type": "code",
   "execution_count": 13,
   "id": "e640ba90-3320-463a-bb23-a78096abce34",
   "metadata": {},
   "outputs": [
    {
     "data": {
      "text/plain": [
       "1"
      ]
     },
     "execution_count": 13,
     "metadata": {},
     "output_type": "execute_result"
    }
   ],
   "source": [
    "a.ndim"
   ]
  },
  {
   "cell_type": "code",
   "execution_count": 16,
   "id": "a1a30535-cb9e-4b14-87e8-32a3fd17932e",
   "metadata": {},
   "outputs": [
    {
     "data": {
      "text/plain": [
       "0"
      ]
     },
     "execution_count": 16,
     "metadata": {},
     "output_type": "execute_result"
    }
   ],
   "source": [
    "a.size"
   ]
  },
  {
   "cell_type": "code",
   "execution_count": 19,
   "id": "22f4aae0-9aae-42f5-95e9-cd850ec42029",
   "metadata": {},
   "outputs": [],
   "source": [
    "# size is for finding no. of elements in array"
   ]
  },
  {
   "cell_type": "code",
   "execution_count": 14,
   "id": "60715694-c128-44d1-98ad-42f9bbee0e55",
   "metadata": {},
   "outputs": [],
   "source": [
    "# ndim shows dimension of array"
   ]
  },
  {
   "cell_type": "code",
   "execution_count": 5,
   "id": "9b6b7f32-5ad4-40c1-a6e1-aa42153e290a",
   "metadata": {},
   "outputs": [
    {
     "data": {
      "text/plain": [
       "array([ 1,  2,  3, 45,  0])"
      ]
     },
     "execution_count": 5,
     "metadata": {},
     "output_type": "execute_result"
    }
   ],
   "source": [
    "b"
   ]
  },
  {
   "cell_type": "code",
   "execution_count": 8,
   "id": "331605a2-be37-4183-b616-ad95c5fa60a2",
   "metadata": {},
   "outputs": [
    {
     "data": {
      "text/plain": [
       "numpy.ndarray"
      ]
     },
     "execution_count": 8,
     "metadata": {},
     "output_type": "execute_result"
    }
   ],
   "source": [
    "type(b)"
   ]
  },
  {
   "cell_type": "code",
   "execution_count": 12,
   "id": "e6ba6502-7fe6-4623-a6b8-0ec57a9e8683",
   "metadata": {},
   "outputs": [
    {
     "data": {
      "text/plain": [
       "1"
      ]
     },
     "execution_count": 12,
     "metadata": {},
     "output_type": "execute_result"
    }
   ],
   "source": [
    "b.ndim"
   ]
  },
  {
   "cell_type": "code",
   "execution_count": 17,
   "id": "6f24c0fe-b773-4f21-8fb5-e6f74a0848d8",
   "metadata": {},
   "outputs": [
    {
     "data": {
      "text/plain": [
       "5"
      ]
     },
     "execution_count": 17,
     "metadata": {},
     "output_type": "execute_result"
    }
   ],
   "source": [
    "b.size"
   ]
  },
  {
   "cell_type": "code",
   "execution_count": 6,
   "id": "0c49960f-548b-44d4-9e0e-2b37765bb171",
   "metadata": {},
   "outputs": [
    {
     "data": {
      "text/plain": [
       "array([[12,  3,  4],\n",
       "       [ 4,  5,  8]])"
      ]
     },
     "execution_count": 6,
     "metadata": {},
     "output_type": "execute_result"
    }
   ],
   "source": [
    "c"
   ]
  },
  {
   "cell_type": "code",
   "execution_count": 20,
   "id": "ce83fd7e-bb97-4dd0-b3ef-3c825d450de2",
   "metadata": {},
   "outputs": [
    {
     "data": {
      "text/plain": [
       "(2, 3)"
      ]
     },
     "execution_count": 20,
     "metadata": {},
     "output_type": "execute_result"
    }
   ],
   "source": [
    "c.shape"
   ]
  },
  {
   "cell_type": "code",
   "execution_count": 21,
   "id": "5d1ac0f3-e4ba-4c3b-a93a-8ddf50b0fa19",
   "metadata": {},
   "outputs": [],
   "source": [
    "# shape attribute is for telling no.of rows and column"
   ]
  },
  {
   "cell_type": "code",
   "execution_count": 9,
   "id": "25966ebf-be11-4183-9261-c87e85120a4e",
   "metadata": {},
   "outputs": [
    {
     "data": {
      "text/plain": [
       "numpy.ndarray"
      ]
     },
     "execution_count": 9,
     "metadata": {},
     "output_type": "execute_result"
    }
   ],
   "source": [
    "type(c)"
   ]
  },
  {
   "cell_type": "code",
   "execution_count": 11,
   "id": "1261e5b5-424a-4051-ad23-2343b19f6bdb",
   "metadata": {},
   "outputs": [
    {
     "data": {
      "text/plain": [
       "2"
      ]
     },
     "execution_count": 11,
     "metadata": {},
     "output_type": "execute_result"
    }
   ],
   "source": [
    "c.ndim"
   ]
  },
  {
   "cell_type": "code",
   "execution_count": 18,
   "id": "11bbf9fc-e9e2-451a-8c78-8321e7b21d93",
   "metadata": {},
   "outputs": [
    {
     "data": {
      "text/plain": [
       "6"
      ]
     },
     "execution_count": 18,
     "metadata": {},
     "output_type": "execute_result"
    }
   ],
   "source": [
    "c.size"
   ]
  },
  {
   "cell_type": "code",
   "execution_count": 22,
   "id": "ea5ce62b-b9c2-408f-b398-9ff5b21030f2",
   "metadata": {},
   "outputs": [],
   "source": [
    "n = np.array([ [2,3,4,5] , [20,10,40,30] , [200,600,100,700] ])"
   ]
  },
  {
   "cell_type": "code",
   "execution_count": 23,
   "id": "b992de20-8d87-4816-8380-f238326c14ee",
   "metadata": {},
   "outputs": [
    {
     "data": {
      "text/plain": [
       "(3, 4)"
      ]
     },
     "execution_count": 23,
     "metadata": {},
     "output_type": "execute_result"
    }
   ],
   "source": [
    "n.shape"
   ]
  },
  {
   "cell_type": "code",
   "execution_count": 24,
   "id": "3ea8db1f-8429-4a96-8343-6fc547bd0138",
   "metadata": {},
   "outputs": [
    {
     "name": "stdout",
     "output_type": "stream",
     "text": [
      "[[  2   3   4   5]\n",
      " [ 20  10  40  30]\n",
      " [200 600 100 700]]\n"
     ]
    }
   ],
   "source": [
    "print(n)"
   ]
  },
  {
   "cell_type": "code",
   "execution_count": 26,
   "id": "9788b358-9c6e-4c73-9064-fc70d3a86c90",
   "metadata": {},
   "outputs": [
    {
     "data": {
      "text/plain": [
       "2"
      ]
     },
     "execution_count": 26,
     "metadata": {},
     "output_type": "execute_result"
    }
   ],
   "source": [
    "n[0,0]"
   ]
  },
  {
   "cell_type": "code",
   "execution_count": 27,
   "id": "6ee13a34-296f-46f6-906c-d92b18784fe0",
   "metadata": {},
   "outputs": [
    {
     "data": {
      "text/plain": [
       "40"
      ]
     },
     "execution_count": 27,
     "metadata": {},
     "output_type": "execute_result"
    }
   ],
   "source": [
    "n[1,2]"
   ]
  },
  {
   "cell_type": "code",
   "execution_count": 30,
   "id": "7cdee6b3-a1e0-44c5-9759-6ca374e9ffb3",
   "metadata": {},
   "outputs": [
    {
     "data": {
      "text/plain": [
       "200"
      ]
     },
     "execution_count": 30,
     "metadata": {},
     "output_type": "execute_result"
    }
   ],
   "source": [
    "n[2,0]"
   ]
  },
  {
   "cell_type": "code",
   "execution_count": 31,
   "id": "ec679907-2217-4f68-8824-dd301981ce69",
   "metadata": {},
   "outputs": [
    {
     "data": {
      "text/plain": [
       "600"
      ]
     },
     "execution_count": 31,
     "metadata": {},
     "output_type": "execute_result"
    }
   ],
   "source": [
    "n[2,1]"
   ]
  },
  {
   "cell_type": "code",
   "execution_count": 33,
   "id": "a7bea9f8-0cb7-4000-8769-e0c9c46f9f0b",
   "metadata": {},
   "outputs": [
    {
     "data": {
      "text/plain": [
       "array([200, 600])"
      ]
     },
     "execution_count": 33,
     "metadata": {},
     "output_type": "execute_result"
    }
   ],
   "source": [
    "n[2,[0,1]]"
   ]
  },
  {
   "cell_type": "code",
   "execution_count": 127,
   "id": "0c2b1224-2856-4764-8fc9-5cad0bcfd2d1",
   "metadata": {},
   "outputs": [
    {
     "data": {
      "text/plain": [
       "array([600, 100])"
      ]
     },
     "execution_count": 127,
     "metadata": {},
     "output_type": "execute_result"
    }
   ],
   "source": [
    "n[2,[1,2]]"
   ]
  },
  {
   "cell_type": "code",
   "execution_count": 35,
   "id": "88b3c922-b97e-4552-badf-ccc1e0cd4157",
   "metadata": {},
   "outputs": [
    {
     "data": {
      "text/plain": [
       "array([600, 100])"
      ]
     },
     "execution_count": 35,
     "metadata": {},
     "output_type": "execute_result"
    }
   ],
   "source": [
    "n[2,1:3]"
   ]
  },
  {
   "cell_type": "code",
   "execution_count": 36,
   "id": "6a702e7a-9ad2-48a2-86ec-f4cad208be79",
   "metadata": {},
   "outputs": [
    {
     "data": {
      "text/plain": [
       "array([3, 4])"
      ]
     },
     "execution_count": 36,
     "metadata": {},
     "output_type": "execute_result"
    }
   ],
   "source": [
    "n[0,1:3]"
   ]
  },
  {
   "cell_type": "code",
   "execution_count": null,
   "id": "767f2246-e3af-45e4-91b5-4e37b940aaa4",
   "metadata": {},
   "outputs": [],
   "source": [
    "# syntax = n[row,col]"
   ]
  },
  {
   "cell_type": "code",
   "execution_count": 42,
   "id": "0ddacce4-efea-49bc-b57d-b1bb61d2b75a",
   "metadata": {},
   "outputs": [
    {
     "data": {
      "text/plain": [
       "array([[ 40,  30],\n",
       "       [100, 700]])"
      ]
     },
     "execution_count": 42,
     "metadata": {},
     "output_type": "execute_result"
    }
   ],
   "source": [
    "n[1:,2:]"
   ]
  },
  {
   "cell_type": "code",
   "execution_count": 43,
   "id": "2bd37943-ed89-4b0f-bf7d-3f4caac76c73",
   "metadata": {},
   "outputs": [
    {
     "data": {
      "text/plain": [
       "array([[ 40,  30],\n",
       "       [100, 700]])"
      ]
     },
     "execution_count": 43,
     "metadata": {},
     "output_type": "execute_result"
    }
   ],
   "source": [
    "n[1:3,2:4]"
   ]
  },
  {
   "cell_type": "code",
   "execution_count": 44,
   "id": "f7aed01b-35d1-4125-a3be-5f8dfe6cf1d5",
   "metadata": {},
   "outputs": [
    {
     "data": {
      "text/plain": [
       "array([[  5],\n",
       "       [ 30],\n",
       "       [700]])"
      ]
     },
     "execution_count": 44,
     "metadata": {},
     "output_type": "execute_result"
    }
   ],
   "source": [
    "n[0:,3:]"
   ]
  },
  {
   "cell_type": "code",
   "execution_count": 45,
   "id": "590969ef-af90-448b-92f5-a56cdc6bedb1",
   "metadata": {},
   "outputs": [
    {
     "data": {
      "text/plain": [
       "array([20, 10])"
      ]
     },
     "execution_count": 45,
     "metadata": {},
     "output_type": "execute_result"
    }
   ],
   "source": [
    "n[1,:2]"
   ]
  },
  {
   "cell_type": "markdown",
   "id": "2cc1e783-3af9-41ff-9b4f-32ebb8ea01d8",
   "metadata": {},
   "source": [
    "# arange"
   ]
  },
  {
   "cell_type": "code",
   "execution_count": 47,
   "id": "04b9fe50-4e6e-4fb2-9227-b806a216ad71",
   "metadata": {
    "collapsed": true,
    "jupyter": {
     "outputs_hidden": true
    },
    "tags": []
   },
   "outputs": [
    {
     "data": {
      "text/plain": [
       "[5,\n",
       " 6,\n",
       " 7,\n",
       " 8,\n",
       " 9,\n",
       " 10,\n",
       " 11,\n",
       " 12,\n",
       " 13,\n",
       " 14,\n",
       " 15,\n",
       " 16,\n",
       " 17,\n",
       " 18,\n",
       " 19,\n",
       " 20,\n",
       " 21,\n",
       " 22,\n",
       " 23,\n",
       " 24,\n",
       " 25,\n",
       " 26,\n",
       " 27,\n",
       " 28,\n",
       " 29,\n",
       " 30,\n",
       " 31,\n",
       " 32,\n",
       " 33,\n",
       " 34,\n",
       " 35,\n",
       " 36,\n",
       " 37,\n",
       " 38,\n",
       " 39,\n",
       " 40,\n",
       " 41,\n",
       " 42,\n",
       " 43,\n",
       " 44,\n",
       " 45,\n",
       " 46,\n",
       " 47,\n",
       " 48,\n",
       " 49,\n",
       " 50]"
      ]
     },
     "execution_count": 47,
     "metadata": {},
     "output_type": "execute_result"
    }
   ],
   "source": [
    "list(range(5,51))"
   ]
  },
  {
   "cell_type": "code",
   "execution_count": 48,
   "id": "072fa15a-36cc-4e87-b8f0-a56d3c95865d",
   "metadata": {},
   "outputs": [
    {
     "data": {
      "text/plain": [
       "array([ 5,  6,  7,  8,  9, 10, 11, 12, 13, 14, 15, 16, 17, 18, 19, 20, 21,\n",
       "       22, 23, 24, 25, 26, 27, 28, 29, 30, 31, 32, 33, 34, 35, 36, 37, 38,\n",
       "       39, 40, 41, 42, 43, 44, 45, 46, 47, 48, 49, 50])"
      ]
     },
     "execution_count": 48,
     "metadata": {},
     "output_type": "execute_result"
    }
   ],
   "source": [
    "np.arange(5,51)"
   ]
  },
  {
   "cell_type": "code",
   "execution_count": 77,
   "id": "56ef1274-beb0-4ea4-8d5b-2ced6cc7e66d",
   "metadata": {},
   "outputs": [
    {
     "ename": "TypeError",
     "evalue": "'float' object cannot be interpreted as an integer",
     "output_type": "error",
     "traceback": [
      "\u001b[1;31m---------------------------------------------------------------------------\u001b[0m",
      "\u001b[1;31mTypeError\u001b[0m                                 Traceback (most recent call last)",
      "Input \u001b[1;32mIn [77]\u001b[0m, in \u001b[0;36m<cell line: 1>\u001b[1;34m()\u001b[0m\n\u001b[1;32m----> 1\u001b[0m \u001b[38;5;28mlist\u001b[39m(\u001b[38;5;28;43mrange\u001b[39;49m\u001b[43m(\u001b[49m\u001b[38;5;241;43m5.5\u001b[39;49m\u001b[43m,\u001b[49m\u001b[38;5;241;43m50.3\u001b[39;49m\u001b[43m)\u001b[49m)\n",
      "\u001b[1;31mTypeError\u001b[0m: 'float' object cannot be interpreted as an integer"
     ]
    }
   ],
   "source": [
    "list(range(5.5,50.3)) # float values doesn't accept"
   ]
  },
  {
   "cell_type": "code",
   "execution_count": 52,
   "id": "ddae048e-071c-4834-8f54-7449e7f74f62",
   "metadata": {},
   "outputs": [
    {
     "data": {
      "text/plain": [
       "array([ 5.5,  6.5,  7.5,  8.5,  9.5, 10.5, 11.5, 12.5, 13.5, 14.5, 15.5,\n",
       "       16.5, 17.5, 18.5, 19.5, 20.5, 21.5, 22.5, 23.5, 24.5, 25.5, 26.5,\n",
       "       27.5, 28.5, 29.5, 30.5, 31.5, 32.5, 33.5, 34.5, 35.5, 36.5, 37.5,\n",
       "       38.5, 39.5, 40.5, 41.5, 42.5, 43.5, 44.5, 45.5, 46.5, 47.5, 48.5,\n",
       "       49.5])"
      ]
     },
     "execution_count": 52,
     "metadata": {},
     "output_type": "execute_result"
    }
   ],
   "source": [
    "np.arange(5.5,50.3)"
   ]
  },
  {
   "cell_type": "markdown",
   "id": "fecc8a13-829c-428c-a66b-6babcb567d64",
   "metadata": {},
   "source": [
    "# reshape"
   ]
  },
  {
   "cell_type": "code",
   "execution_count": 76,
   "id": "952bcc34-0619-4892-8af0-04db32d9c902",
   "metadata": {},
   "outputs": [
    {
     "data": {
      "text/plain": [
       "array([ 0,  1,  2,  3,  4,  5,  6,  7,  8,  9, 10, 11])"
      ]
     },
     "execution_count": 76,
     "metadata": {},
     "output_type": "execute_result"
    }
   ],
   "source": [
    "np.arange(12)"
   ]
  },
  {
   "cell_type": "code",
   "execution_count": 67,
   "id": "c85ba852-5ac9-4dad-8b48-ac6968409dfe",
   "metadata": {},
   "outputs": [
    {
     "data": {
      "text/plain": [
       "array([[ 0,  1,  2,  3],\n",
       "       [ 4,  5,  6,  7],\n",
       "       [ 8,  9, 10, 11]])"
      ]
     },
     "execution_count": 67,
     "metadata": {},
     "output_type": "execute_result"
    }
   ],
   "source": [
    "np.arange(12).reshape(3,4)"
   ]
  },
  {
   "cell_type": "code",
   "execution_count": 55,
   "id": "7b1e22c1-1442-417f-b58e-ce55c898cfa8",
   "metadata": {},
   "outputs": [
    {
     "data": {
      "text/plain": [
       "array([[ 0,  1,  2,  3,  4,  5],\n",
       "       [ 6,  7,  8,  9, 10, 11]])"
      ]
     },
     "execution_count": 55,
     "metadata": {},
     "output_type": "execute_result"
    }
   ],
   "source": [
    "np.arange(12).reshape(2,6)"
   ]
  },
  {
   "cell_type": "code",
   "execution_count": 63,
   "id": "c8d2450a-4fee-4679-974a-8958f0d75c96",
   "metadata": {},
   "outputs": [
    {
     "data": {
      "text/plain": [
       "array([[ 0,  1,  2],\n",
       "       [ 3,  4,  5],\n",
       "       [ 6,  7,  8],\n",
       "       [ 9, 10, 11]])"
      ]
     },
     "execution_count": 63,
     "metadata": {},
     "output_type": "execute_result"
    }
   ],
   "source": [
    "np.arange(12).reshape(4,3)"
   ]
  },
  {
   "cell_type": "code",
   "execution_count": 58,
   "id": "3da4d656-c378-4d7f-900d-2e15938dcd6a",
   "metadata": {},
   "outputs": [
    {
     "data": {
      "text/plain": [
       "9.0"
      ]
     },
     "execution_count": 58,
     "metadata": {},
     "output_type": "execute_result"
    }
   ],
   "source": [
    "np.sqrt(81)"
   ]
  },
  {
   "cell_type": "code",
   "execution_count": 60,
   "id": "f11479be-e3d9-4a29-bb0d-5b4a452d3fe5",
   "metadata": {},
   "outputs": [
    {
     "data": {
      "text/plain": [
       "700"
      ]
     },
     "execution_count": 60,
     "metadata": {},
     "output_type": "execute_result"
    }
   ],
   "source": [
    "n.max()"
   ]
  },
  {
   "cell_type": "code",
   "execution_count": 68,
   "id": "0553f171-8760-47b2-b29f-52f374f71fda",
   "metadata": {},
   "outputs": [
    {
     "data": {
      "text/plain": [
       "2"
      ]
     },
     "execution_count": 68,
     "metadata": {},
     "output_type": "execute_result"
    }
   ],
   "source": [
    "n.min()"
   ]
  },
  {
   "cell_type": "code",
   "execution_count": 69,
   "id": "d3fa35fa-1e38-49a8-a20a-9e737ff8d1d7",
   "metadata": {},
   "outputs": [
    {
     "data": {
      "text/plain": [
       "142.83333333333334"
      ]
     },
     "execution_count": 69,
     "metadata": {},
     "output_type": "execute_result"
    }
   ],
   "source": [
    "n.mean()"
   ]
  },
  {
   "cell_type": "code",
   "execution_count": 70,
   "id": "df08195d-0acc-4ea3-9d0f-764407c19bce",
   "metadata": {},
   "outputs": [],
   "source": [
    "n = np.array([ [2,3,4,5] , [20,10,40,30] , [200,600,100,700] ])"
   ]
  },
  {
   "cell_type": "code",
   "execution_count": 71,
   "id": "8a82a718-068e-4b47-9064-cfa6545b9708",
   "metadata": {},
   "outputs": [
    {
     "data": {
      "text/plain": [
       "array([[  2,   3,   4,   5],\n",
       "       [ 20,  10,  40,  30],\n",
       "       [200, 600, 100, 700]])"
      ]
     },
     "execution_count": 71,
     "metadata": {},
     "output_type": "execute_result"
    }
   ],
   "source": [
    "n"
   ]
  },
  {
   "cell_type": "code",
   "execution_count": 74,
   "id": "27ed385f-4af0-46d4-b205-ea0d03f49957",
   "metadata": {},
   "outputs": [
    {
     "data": {
      "text/plain": [
       "11"
      ]
     },
     "execution_count": 74,
     "metadata": {},
     "output_type": "execute_result"
    }
   ],
   "source": [
    "n.argmax() # position of max value"
   ]
  },
  {
   "cell_type": "code",
   "execution_count": 75,
   "id": "3fad7c90-bbe1-48a8-9492-b307360a9d74",
   "metadata": {},
   "outputs": [
    {
     "data": {
      "text/plain": [
       "0"
      ]
     },
     "execution_count": 75,
     "metadata": {},
     "output_type": "execute_result"
    }
   ],
   "source": [
    "n.argmin() # position of min value"
   ]
  },
  {
   "cell_type": "code",
   "execution_count": 78,
   "id": "6073cdf1-1806-4555-ac57-8d208ed35387",
   "metadata": {},
   "outputs": [
    {
     "data": {
      "text/plain": [
       "array([[  2,   3,   4,   5],\n",
       "       [ 20,  10,  40,  30],\n",
       "       [200, 600, 100, 700]])"
      ]
     },
     "execution_count": 78,
     "metadata": {},
     "output_type": "execute_result"
    }
   ],
   "source": [
    "n"
   ]
  },
  {
   "cell_type": "code",
   "execution_count": 82,
   "id": "191e685c-2baf-4cdf-9995-5512962da3c0",
   "metadata": {},
   "outputs": [
    {
     "data": {
      "text/plain": [
       "array([[   4,    6,    8,   10],\n",
       "       [  40,   20,   80,   60],\n",
       "       [ 400, 1200,  200, 1400]])"
      ]
     },
     "execution_count": 82,
     "metadata": {},
     "output_type": "execute_result"
    }
   ],
   "source": [
    "n*2 # multiply with each element"
   ]
  },
  {
   "cell_type": "code",
   "execution_count": 81,
   "id": "2b65ef15-ec34-476f-a782-249a65ec229f",
   "metadata": {},
   "outputs": [
    {
     "data": {
      "text/plain": [
       "array([[ 12,  13,  14,  15],\n",
       "       [ 30,  20,  50,  40],\n",
       "       [210, 610, 110, 710]])"
      ]
     },
     "execution_count": 81,
     "metadata": {},
     "output_type": "execute_result"
    }
   ],
   "source": [
    "n+10 # add in original n"
   ]
  },
  {
   "cell_type": "markdown",
   "id": "22814b94-153a-40c7-9336-a6d3d0d80604",
   "metadata": {},
   "source": [
    "# random"
   ]
  },
  {
   "cell_type": "code",
   "execution_count": 84,
   "id": "a4b0671e-0ba3-43c5-ac4d-98d0f7be7899",
   "metadata": {},
   "outputs": [
    {
     "data": {
      "text/plain": [
       "array([[0.89673213, 0.73059005],\n",
       "       [0.47559526, 0.17098728]])"
      ]
     },
     "execution_count": 84,
     "metadata": {},
     "output_type": "execute_result"
    }
   ],
   "source": [
    "np.random.rand(2,2) # always return floating value never return a negative value"
   ]
  },
  {
   "cell_type": "code",
   "execution_count": 85,
   "id": "767dd09d-8e57-465b-a697-625bda9b538f",
   "metadata": {},
   "outputs": [
    {
     "data": {
      "text/plain": [
       "array([0.43372391, 0.42765439])"
      ]
     },
     "execution_count": 85,
     "metadata": {},
     "output_type": "execute_result"
    }
   ],
   "source": [
    "np.random.rand(2)"
   ]
  },
  {
   "cell_type": "code",
   "execution_count": 87,
   "id": "0580dd20-e73e-4818-b601-459d01b51376",
   "metadata": {},
   "outputs": [
    {
     "data": {
      "text/plain": [
       "array([[ 0.09843681, -0.39968828],\n",
       "       [-1.59745313, -1.59183226]])"
      ]
     },
     "execution_count": 87,
     "metadata": {},
     "output_type": "execute_result"
    }
   ],
   "source": [
    "np.random.randn(2,2) # return negative floating point"
   ]
  },
  {
   "cell_type": "code",
   "execution_count": 97,
   "id": "08f8cf5f-5302-4bbf-8a9b-9f30f2271507",
   "metadata": {},
   "outputs": [],
   "source": [
    "s = np.random.randint(9,90,12) # (starting point , stop,no. of element)"
   ]
  },
  {
   "cell_type": "code",
   "execution_count": 98,
   "id": "fd9ab874-9aad-4444-bac7-6b55c15fb58e",
   "metadata": {},
   "outputs": [
    {
     "data": {
      "text/plain": [
       "array([35, 42, 72, 36, 75, 72, 80, 12, 79, 21, 86, 35])"
      ]
     },
     "execution_count": 98,
     "metadata": {},
     "output_type": "execute_result"
    }
   ],
   "source": [
    "s"
   ]
  },
  {
   "cell_type": "code",
   "execution_count": 102,
   "id": "3ce16698-6e0d-4f13-9dd3-519869d60abd",
   "metadata": {},
   "outputs": [],
   "source": [
    "s1 = np.random.randint(9,90,12).reshape(6,2)"
   ]
  },
  {
   "cell_type": "code",
   "execution_count": 103,
   "id": "503abea1-b375-437e-9ff6-d8c849bcce49",
   "metadata": {},
   "outputs": [
    {
     "data": {
      "text/plain": [
       "array([[68,  9],\n",
       "       [63, 89],\n",
       "       [45, 56],\n",
       "       [71, 54],\n",
       "       [12, 82],\n",
       "       [64, 41]])"
      ]
     },
     "execution_count": 103,
     "metadata": {},
     "output_type": "execute_result"
    }
   ],
   "source": [
    "s1"
   ]
  },
  {
   "cell_type": "code",
   "execution_count": 93,
   "id": "3b6f9d0c-465f-49cb-a04e-defc67755106",
   "metadata": {},
   "outputs": [
    {
     "data": {
      "text/plain": [
       "array([[40, 11, 78,  9, 80, 23],\n",
       "       [38, 41, 56,  9, 13, 80]])"
      ]
     },
     "execution_count": 93,
     "metadata": {},
     "output_type": "execute_result"
    }
   ],
   "source": [
    "np.random.randint(9,90,12).reshape(2,6)"
   ]
  },
  {
   "cell_type": "code",
   "execution_count": 94,
   "id": "974452bf-e691-4bbc-b400-a1ffb0371cf0",
   "metadata": {},
   "outputs": [
    {
     "data": {
      "text/plain": [
       "array([[64, 80, 88, 44],\n",
       "       [67, 52, 11, 49],\n",
       "       [50, 71, 46, 75]])"
      ]
     },
     "execution_count": 94,
     "metadata": {},
     "output_type": "execute_result"
    }
   ],
   "source": [
    "np.random.randint(9,90,12).reshape(3,4)"
   ]
  },
  {
   "cell_type": "code",
   "execution_count": 99,
   "id": "9a5d7713-b965-4d0a-baea-f7c960e8aa93",
   "metadata": {},
   "outputs": [
    {
     "data": {
      "text/plain": [
       "645"
      ]
     },
     "execution_count": 99,
     "metadata": {},
     "output_type": "execute_result"
    }
   ],
   "source": [
    "s.sum()"
   ]
  },
  {
   "cell_type": "code",
   "execution_count": 109,
   "id": "d287abe1-5211-42f4-8d8f-15204843711f",
   "metadata": {},
   "outputs": [
    {
     "data": {
      "text/plain": [
       "654"
      ]
     },
     "execution_count": 109,
     "metadata": {},
     "output_type": "execute_result"
    }
   ],
   "source": [
    "s1.sum()"
   ]
  },
  {
   "cell_type": "code",
   "execution_count": 108,
   "id": "ddc3f1f2-6ae3-40b4-998f-dd96955f84fe",
   "metadata": {},
   "outputs": [
    {
     "data": {
      "text/plain": [
       "array([ 77, 152, 101, 125,  94, 105])"
      ]
     },
     "execution_count": 108,
     "metadata": {},
     "output_type": "execute_result"
    }
   ],
   "source": [
    "s1.sum(axis=1) # row wise sum"
   ]
  },
  {
   "cell_type": "code",
   "execution_count": 106,
   "id": "0c8c2942-a31d-4f59-82fc-761cc2ff1a38",
   "metadata": {},
   "outputs": [
    {
     "data": {
      "text/plain": [
       "array([323, 331])"
      ]
     },
     "execution_count": 106,
     "metadata": {},
     "output_type": "execute_result"
    }
   ],
   "source": [
    "s1.sum(axis=0) # columnwise sum"
   ]
  },
  {
   "cell_type": "markdown",
   "id": "6dd56839-cb51-4175-9b72-e8a8fd547986",
   "metadata": {},
   "source": [
    "# 3D array"
   ]
  },
  {
   "cell_type": "code",
   "execution_count": 117,
   "id": "fd125de0-bd00-4993-b515-6abd4853a82e",
   "metadata": {},
   "outputs": [],
   "source": [
    "a = np.array([[[4,40],[5,50],[6,60]],[[7,70],[8,80],[9,90]],[[5,55],[4,40],[6,60]]])"
   ]
  },
  {
   "cell_type": "code",
   "execution_count": 118,
   "id": "9610295d-4554-451a-a83d-c69b2e888eb0",
   "metadata": {},
   "outputs": [
    {
     "data": {
      "text/plain": [
       "array([[[ 4, 40],\n",
       "        [ 5, 50],\n",
       "        [ 6, 60]],\n",
       "\n",
       "       [[ 7, 70],\n",
       "        [ 8, 80],\n",
       "        [ 9, 90]],\n",
       "\n",
       "       [[ 5, 55],\n",
       "        [ 4, 40],\n",
       "        [ 6, 60]]])"
      ]
     },
     "execution_count": 118,
     "metadata": {},
     "output_type": "execute_result"
    }
   ],
   "source": [
    "a"
   ]
  },
  {
   "cell_type": "code",
   "execution_count": 119,
   "id": "cc850f06-5b3b-4d87-83eb-5dac07d40763",
   "metadata": {},
   "outputs": [
    {
     "data": {
      "text/plain": [
       "(3, 3, 2)"
      ]
     },
     "execution_count": 119,
     "metadata": {},
     "output_type": "execute_result"
    }
   ],
   "source": [
    "a.shape"
   ]
  },
  {
   "cell_type": "code",
   "execution_count": 120,
   "id": "bd241481-fb68-4de2-9542-da51ddb310ca",
   "metadata": {},
   "outputs": [],
   "source": [
    "# home task is to make a 3d array of (4,3,4) "
   ]
  },
  {
   "cell_type": "code",
   "execution_count": 121,
   "id": "9820d6b5-83de-4be4-bbda-3a7b1c1ad5e2",
   "metadata": {},
   "outputs": [],
   "source": [
    "# nan = not a number"
   ]
  },
  {
   "cell_type": "code",
   "execution_count": 122,
   "id": "158b2754-cfa4-4244-9f5f-cc94b3db1ae1",
   "metadata": {},
   "outputs": [],
   "source": [
    "x = np.array([12,56,np.nan,66,100,np.nan])"
   ]
  },
  {
   "cell_type": "code",
   "execution_count": 123,
   "id": "55c32671-ae46-4f55-bf7b-4168407766c9",
   "metadata": {},
   "outputs": [
    {
     "data": {
      "text/plain": [
       "array([ 12.,  56.,  nan,  66., 100.,  nan])"
      ]
     },
     "execution_count": 123,
     "metadata": {},
     "output_type": "execute_result"
    }
   ],
   "source": [
    "x"
   ]
  },
  {
   "cell_type": "code",
   "execution_count": 126,
   "id": "3d1ac6c6-f05c-4785-a696-79763caeb7e8",
   "metadata": {},
   "outputs": [
    {
     "data": {
      "text/plain": [
       "dtype('float64')"
      ]
     },
     "execution_count": 126,
     "metadata": {},
     "output_type": "execute_result"
    }
   ],
   "source": [
    "x.dtype # datatype"
   ]
  },
  {
   "cell_type": "code",
   "execution_count": 128,
   "id": "b97c1eed-c200-4dc5-b934-1b6a792575b8",
   "metadata": {},
   "outputs": [],
   "source": [
    "p = np.array([[[4,40,11,51],[5,8,15,50],[6,16,45,60]],[[7,17,67,70],[8,18,28,80],[9,19,50,90]],[[5,15,25,55],[4,24,34,40],[6,16,56,60]],[[4,14,18,80],[9,29,39,50],[15,25,45,55]]])"
   ]
  },
  {
   "cell_type": "code",
   "execution_count": 129,
   "id": "7a5a1cf6-e2ba-494d-8304-c1353e7594c9",
   "metadata": {},
   "outputs": [
    {
     "data": {
      "text/plain": [
       "array([[[ 4, 40, 11, 51],\n",
       "        [ 5,  8, 15, 50],\n",
       "        [ 6, 16, 45, 60]],\n",
       "\n",
       "       [[ 7, 17, 67, 70],\n",
       "        [ 8, 18, 28, 80],\n",
       "        [ 9, 19, 50, 90]],\n",
       "\n",
       "       [[ 5, 15, 25, 55],\n",
       "        [ 4, 24, 34, 40],\n",
       "        [ 6, 16, 56, 60]],\n",
       "\n",
       "       [[ 4, 14, 18, 80],\n",
       "        [ 9, 29, 39, 50],\n",
       "        [15, 25, 45, 55]]])"
      ]
     },
     "execution_count": 129,
     "metadata": {},
     "output_type": "execute_result"
    }
   ],
   "source": [
    "p"
   ]
  },
  {
   "cell_type": "code",
   "execution_count": 130,
   "id": "82b66bb1-4e9f-4b35-b1eb-c1100e0ad398",
   "metadata": {},
   "outputs": [
    {
     "data": {
      "text/plain": [
       "(4, 3, 4)"
      ]
     },
     "execution_count": 130,
     "metadata": {},
     "output_type": "execute_result"
    }
   ],
   "source": [
    "p.shape"
   ]
  },
  {
   "cell_type": "code",
   "execution_count": null,
   "id": "5136a566-9f37-4fc1-aceb-8e91e772ec0e",
   "metadata": {},
   "outputs": [],
   "source": []
  }
 ],
 "metadata": {
  "kernelspec": {
   "display_name": "Python 3 (ipykernel)",
   "language": "python",
   "name": "python3"
  },
  "language_info": {
   "codemirror_mode": {
    "name": "ipython",
    "version": 3
   },
   "file_extension": ".py",
   "mimetype": "text/x-python",
   "name": "python",
   "nbconvert_exporter": "python",
   "pygments_lexer": "ipython3",
   "version": "3.9.12"
  }
 },
 "nbformat": 4,
 "nbformat_minor": 5
}
